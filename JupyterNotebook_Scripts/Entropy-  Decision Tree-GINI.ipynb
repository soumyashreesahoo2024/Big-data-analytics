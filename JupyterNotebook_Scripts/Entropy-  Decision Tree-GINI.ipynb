{
 "cells": [
  {
   "cell_type": "code",
   "execution_count": 20,
   "metadata": {},
   "outputs": [],
   "source": [
    "from math import log2\n"
   ]
  },
  {
   "cell_type": "code",
   "execution_count": 8,
   "metadata": {},
   "outputs": [],
   "source": [
    "A = 0.41\n",
    "B = 0.46\n",
    "C= 0.13\n"
   ]
  },
  {
   "cell_type": "code",
   "execution_count": 9,
   "metadata": {},
   "outputs": [
    {
     "name": "stdout",
     "output_type": "stream",
     "text": [
      "entropy: 1.425 bits\n"
     ]
    }
   ],
   "source": [
    "# proportion of examples in each class\n",
    "class0 = A\n",
    "class1 = B\n",
    "class2 = C\n",
    "\n",
    "# calculate entropy\n",
    "entropy = -(class0 * log2(class0) + class1 * log2(class1) + class2 * log2(class2))\n",
    "# print the result\n",
    "print('entropy: %.3f bits' % entropy)"
   ]
  },
  {
   "cell_type": "code",
   "execution_count": 5,
   "metadata": {},
   "outputs": [
    {
     "name": "stdout",
     "output_type": "stream",
     "text": [
      "Dataset Entropy: 0.557 bits\n"
     ]
    }
   ],
   "source": [
    "\n",
    "# calculate the entropy for the split in the dataset\n",
    "def entropy(class0, class1):\n",
    "\treturn -(class0 * log2(class0) + class1 * log2(class1))\n",
    "\n",
    "\n",
    "# x <=0.2 ---------->\n",
    "\n",
    "class0 = 0.13/1\n",
    "class1 = (0.41+.46)/1\n",
    "\n",
    "# calculate entropy before the change\n",
    "s_entropy = entropy(class0, class1)\n",
    "print('Dataset Entropy: %.3f bits' % s_entropy)\n"
   ]
  },
  {
   "cell_type": "code",
   "execution_count": 11,
   "metadata": {},
   "outputs": [
    {
     "name": "stdout",
     "output_type": "stream",
     "text": [
      "Dataset Entropy: 1.293 bits\n"
     ]
    }
   ],
   "source": [
    "\n",
    "# calculate the information gain\n",
    "from math import log2\n",
    " \n",
    "# calculate the entropy for the split in the dataset\n",
    "def entropy(class0, class1, class2):\n",
    "    return  -(class0 * log2(class0) + class1 * log2(class1) + class2 * log2(class2))\n",
    "\n",
    " \n",
    "# split of the main dataset\n",
    "class0 = 0.41\n",
    "class1 = 0.46\n",
    "class1 = 0.13\n",
    "\n",
    "# calculate entropy before the change\n",
    "s_entropy = entropy(class0, class1, class2)\n",
    "print('Dataset Entropy: %.3f bits' % s_entropy)\n",
    " \n",
    "# # split 1 (split via value1)\n",
    "# s1_class0 = 0.13\n",
    "# s1_class1 = (0.41+0.46)\n",
    "\n",
    "# # calculate the entropy of the first group\n",
    "# s1_entropy = entropy1(s1_class0, s1_class1)\n",
    "# print('Group1 Entropy: %.3f bits' % s1_entropy)\n",
    " \n",
    "# # split 2  (split via value2)\n",
    "# s2_class0 = 0\n",
    "# s2_class1 = (0.13+0.41+0.46)\n",
    "# # calculate the entropy of the second group\n",
    "# s2_entropy = entropy1(s2_class0, s2_class1)\n",
    "# print('Group2 Entropy: %.3f bits' % s2_entropy)\n",
    " \n",
    "# # calculate the information gain\n",
    "# gain = s_entropy - (8/20 * s1_entropy + 12/20 * s2_entropy)\n",
    "# print('Information Gain: %.3f bits' % gain)"
   ]
  },
  {
   "cell_type": "markdown",
   "metadata": {},
   "source": [
    "## -----------------------------------------------------------------------------------------------------------------"
   ]
  },
  {
   "cell_type": "code",
   "execution_count": 12,
   "metadata": {},
   "outputs": [
    {
     "data": {
      "text/html": [
       "<div>\n",
       "<style scoped>\n",
       "    .dataframe tbody tr th:only-of-type {\n",
       "        vertical-align: middle;\n",
       "    }\n",
       "\n",
       "    .dataframe tbody tr th {\n",
       "        vertical-align: top;\n",
       "    }\n",
       "\n",
       "    .dataframe thead th {\n",
       "        text-align: right;\n",
       "    }\n",
       "</style>\n",
       "<table border=\"1\" class=\"dataframe\">\n",
       "  <thead>\n",
       "    <tr style=\"text-align: right;\">\n",
       "      <th></th>\n",
       "      <th>income</th>\n",
       "      <th>Age</th>\n",
       "      <th>Have_phone</th>\n",
       "      <th>But_ipad</th>\n",
       "    </tr>\n",
       "  </thead>\n",
       "  <tbody>\n",
       "    <tr>\n",
       "      <th>0</th>\n",
       "      <td>high</td>\n",
       "      <td>young</td>\n",
       "      <td>yes</td>\n",
       "      <td>yes</td>\n",
       "    </tr>\n",
       "    <tr>\n",
       "      <th>1</th>\n",
       "      <td>high</td>\n",
       "      <td>old</td>\n",
       "      <td>yes</td>\n",
       "      <td>yes</td>\n",
       "    </tr>\n",
       "    <tr>\n",
       "      <th>2</th>\n",
       "      <td>medium</td>\n",
       "      <td>young</td>\n",
       "      <td>No</td>\n",
       "      <td>yes</td>\n",
       "    </tr>\n",
       "    <tr>\n",
       "      <th>3</th>\n",
       "      <td>high</td>\n",
       "      <td>old</td>\n",
       "      <td>No</td>\n",
       "      <td>yes</td>\n",
       "    </tr>\n",
       "    <tr>\n",
       "      <th>4</th>\n",
       "      <td>medium</td>\n",
       "      <td>young</td>\n",
       "      <td>No</td>\n",
       "      <td>No</td>\n",
       "    </tr>\n",
       "    <tr>\n",
       "      <th>5</th>\n",
       "      <td>medium</td>\n",
       "      <td>young</td>\n",
       "      <td>No</td>\n",
       "      <td>No</td>\n",
       "    </tr>\n",
       "    <tr>\n",
       "      <th>6</th>\n",
       "      <td>medium</td>\n",
       "      <td>old</td>\n",
       "      <td>No</td>\n",
       "      <td>No</td>\n",
       "    </tr>\n",
       "    <tr>\n",
       "      <th>7</th>\n",
       "      <td>medium</td>\n",
       "      <td>old</td>\n",
       "      <td>No</td>\n",
       "      <td>No</td>\n",
       "    </tr>\n",
       "  </tbody>\n",
       "</table>\n",
       "</div>"
      ],
      "text/plain": [
       "   income    Age Have_phone But_ipad\n",
       "0    high  young        yes      yes\n",
       "1    high    old        yes      yes\n",
       "2  medium  young         No      yes\n",
       "3    high    old         No      yes\n",
       "4  medium  young         No       No\n",
       "5  medium  young         No       No\n",
       "6  medium    old         No       No\n",
       "7  medium    old         No       No"
      ]
     },
     "execution_count": 12,
     "metadata": {},
     "output_type": "execute_result"
    }
   ],
   "source": [
    "# Import pandas library \n",
    "import pandas as pd \n",
    "  \n",
    "# initialize list of lists \n",
    "data = [['high', 'young', 'yes', 'yes'], ['high', 'old', 'yes', 'yes'], \n",
    "        ['medium', 'young', 'No', 'yes'], ['high', 'old', 'No', 'yes'],\n",
    "        ['medium', 'young', 'No', 'No'],['medium', 'young', 'No', 'No'],\n",
    "        ['medium', 'old', 'No', 'No'],['medium', 'old', 'No', 'No'] ] \n",
    "  \n",
    "# Create the pandas DataFrame \n",
    "df = pd.DataFrame(data, columns = ['income', 'Age', 'Have_phone', 'But_ipad']) \n",
    "  \n",
    "# print dataframe. \n",
    "df "
   ]
  },
  {
   "cell_type": "code",
   "execution_count": 13,
   "metadata": {},
   "outputs": [
    {
     "data": {
      "text/plain": [
       "array([['high', 'young', 'yes', 'yes'],\n",
       "       ['high', 'old', 'yes', 'yes'],\n",
       "       ['medium', 'young', 'No', 'yes'],\n",
       "       ['high', 'old', 'No', 'yes'],\n",
       "       ['medium', 'young', 'No', 'No'],\n",
       "       ['medium', 'young', 'No', 'No'],\n",
       "       ['medium', 'old', 'No', 'No'],\n",
       "       ['medium', 'old', 'No', 'No']], dtype=object)"
      ]
     },
     "execution_count": 13,
     "metadata": {},
     "output_type": "execute_result"
    }
   ],
   "source": [
    "data = df.to_numpy()\n",
    "data"
   ]
  },
  {
   "cell_type": "code",
   "execution_count": 23,
   "metadata": {},
   "outputs": [],
   "source": [
    "import numpy as np\n",
    "import pandas as pd\n",
    "from sklearn.tree import DecisionTreeClassifier\n",
    "from sklearn.preprocessing import LabelEncoder\n",
    "from sklearn.model_selection import train_test_split"
   ]
  },
  {
   "cell_type": "code",
   "execution_count": 36,
   "metadata": {},
   "outputs": [
    {
     "name": "stdout",
     "output_type": "stream",
     "text": [
      "   income  Age  Have_phone  But_ipad\n",
      "0       0    1           1         1\n",
      "1       0    0           1         1\n",
      "2       1    1           0         1\n",
      "3       0    0           0         1\n",
      "4       1    1           0         0\n",
      "5       1    1           0         0\n",
      "6       1    0           0         0\n",
      "7       1    0           0         0\n",
      "\n",
      "   income    Age Have_phone But_ipad\n",
      "0    high  young        yes      yes\n",
      "1    high    old        yes      yes\n",
      "2  medium  young         No      yes\n",
      "3    high    old         No      yes\n",
      "4  medium  young         No       No\n",
      "5  medium  young         No       No\n",
      "6  medium    old         No       No\n",
      "7  medium    old         No       No\n"
     ]
    }
   ],
   "source": [
    "dataset_encoded=df.iloc[:,0:4]\n",
    "le=LabelEncoder()\n",
    "\n",
    "for i in dataset_encoded:\n",
    "    dataset_encoded[i]=le.fit_transform(dataset_encoded[i])\n",
    "\n",
    "print(dataset_encoded)\n",
    "print()\n",
    "print(df)"
   ]
  },
  {
   "cell_type": "code",
   "execution_count": 38,
   "metadata": {},
   "outputs": [
    {
     "data": {
      "text/plain": [
       "array([1, 1, 1, 1, 0, 0, 0, 0])"
      ]
     },
     "execution_count": 38,
     "metadata": {},
     "output_type": "execute_result"
    }
   ],
   "source": [
    "#Feature Set\n",
    "X=dataset_encoded.iloc[:,0:3].values\n",
    "X\n",
    "#Label Set\n",
    "y=dataset_encoded.iloc[:,3].values\n",
    "y"
   ]
  },
  {
   "cell_type": "code",
   "execution_count": 40,
   "metadata": {},
   "outputs": [
    {
     "data": {
      "text/plain": [
       "DecisionTreeClassifier()"
      ]
     },
     "execution_count": 40,
     "metadata": {},
     "output_type": "execute_result"
    }
   ],
   "source": [
    "X_train,X_test,y_train,y_test=train_test_split(X,y,test_size=0.2,random_state=2)\n",
    "\n",
    "model=DecisionTreeClassifier(criterion='gini')\n",
    "\n",
    "model.fit(X_train,y_train)"
   ]
  },
  {
   "cell_type": "code",
   "execution_count": 41,
   "metadata": {},
   "outputs": [
    {
     "data": {
      "text/plain": [
       "array([1])"
      ]
     },
     "execution_count": 41,
     "metadata": {},
     "output_type": "execute_result"
    }
   ],
   "source": [
    "# prediction for first row : Buy_ipad : yes\n",
    "model.predict([[0,1,1]])"
   ]
  },
  {
   "cell_type": "code",
   "execution_count": 42,
   "metadata": {},
   "outputs": [
    {
     "name": "stdout",
     "output_type": "stream",
     "text": [
      "no can't buy\n"
     ]
    }
   ],
   "source": [
    "if model.predict([[1,1,1]])==1:\n",
    "    print(\"will buy iphone\")\n",
    "else:\n",
    "    print(\"no can't buy\")"
   ]
  },
  {
   "cell_type": "code",
   "execution_count": 43,
   "metadata": {},
   "outputs": [
    {
     "data": {
      "text/plain": [
       "array([0])"
      ]
     },
     "execution_count": 43,
     "metadata": {},
     "output_type": "execute_result"
    }
   ],
   "source": [
    "# new customer who is young,medium income and has iphone. / doing prediction for this scenario\n",
    "\n",
    "model.predict([[1,1,1]])   # output: can't buy"
   ]
  },
  {
   "cell_type": "code",
   "execution_count": 44,
   "metadata": {},
   "outputs": [],
   "source": [
    "#--------------------------"
   ]
  },
  {
   "cell_type": "code",
   "execution_count": null,
   "metadata": {},
   "outputs": [],
   "source": []
  },
  {
   "cell_type": "code",
   "execution_count": 58,
   "metadata": {},
   "outputs": [
    {
     "name": "stdout",
     "output_type": "stream",
     "text": [
      "   income  Age  Have_phone  But_ipad\n",
      "0       0    1           1         1\n",
      "1       0    0           1         1\n",
      "2       1    1           0         1\n",
      "3       0    0           0         1\n",
      "4       1    1           0         0\n",
      "5       1    1           0         0\n",
      "6       1    0           0         0\n",
      "7       1    0           0         0\n",
      "\n",
      "   income    Age Have_phone But_ipad\n",
      "0    high  young        yes      yes\n",
      "1    high    old        yes      yes\n",
      "2  medium  young         No      yes\n",
      "3    high    old         No      yes\n",
      "4  medium  young         No       No\n",
      "5  medium  young         No       No\n",
      "6  medium    old         No       No\n",
      "7  medium    old         No       No\n"
     ]
    }
   ],
   "source": [
    "print(dataset_encoded)\n",
    "print()\n",
    "print(df)"
   ]
  },
  {
   "cell_type": "code",
   "execution_count": 108,
   "metadata": {},
   "outputs": [],
   "source": [
    "#Feature Set\n",
    "X=dataset_encoded.iloc[:,0:3].values\n",
    "\n",
    "#Label Set\n",
    "y=dataset_encoded.iloc[:,3].values\n",
    "\n",
    "#Feature Set\n",
    "X1=df.iloc[:,0:3].values\n",
    "\n",
    "#Label Set\n",
    "y1=df.iloc[:,3].values\n"
   ]
  },
  {
   "cell_type": "code",
   "execution_count": 143,
   "metadata": {},
   "outputs": [],
   "source": [
    "# Split dataset into training set and test set\n",
    "X_train, X_test, y_train, y_test = train_test_split(X, y, test_size=0.3, random_state=1) # 70% training and 30% test\n"
   ]
  },
  {
   "cell_type": "code",
   "execution_count": 144,
   "metadata": {},
   "outputs": [
    {
     "data": {
      "text/plain": [
       "((5, 3), (3, 3))"
      ]
     },
     "execution_count": 144,
     "metadata": {},
     "output_type": "execute_result"
    }
   ],
   "source": [
    "X_train.shape, X_test.shape"
   ]
  },
  {
   "cell_type": "code",
   "execution_count": 145,
   "metadata": {},
   "outputs": [
    {
     "data": {
      "text/plain": [
       "DecisionTreeClassifier(max_depth=4, random_state=0)"
      ]
     },
     "execution_count": 145,
     "metadata": {},
     "output_type": "execute_result"
    }
   ],
   "source": [
    "# instantiate the DecisionTreeClassifier model with criterion gini index\n",
    "\n",
    "clf_gini = DecisionTreeClassifier(criterion='gini', max_depth=4, random_state=0)\n",
    "\n",
    "\n",
    "# fit the model\n",
    "clf_gini.fit(X_train, y_train)"
   ]
  },
  {
   "cell_type": "code",
   "execution_count": 146,
   "metadata": {},
   "outputs": [],
   "source": [
    "y_pred_gini = clf_gini.predict(X_test)"
   ]
  },
  {
   "cell_type": "code",
   "execution_count": 147,
   "metadata": {},
   "outputs": [
    {
     "name": "stdout",
     "output_type": "stream",
     "text": [
      "Model accuracy score with criterion gini index: 0.6667\n"
     ]
    }
   ],
   "source": [
    "from sklearn.metrics import accuracy_score\n",
    "\n",
    "print('Model accuracy score with criterion gini index: {0:0.4f}'. format(accuracy_score(y_test, y_pred_gini)))"
   ]
  },
  {
   "cell_type": "code",
   "execution_count": 148,
   "metadata": {},
   "outputs": [
    {
     "data": {
      "text/plain": [
       "array([0, 1, 0, 1, 0])"
      ]
     },
     "execution_count": 148,
     "metadata": {},
     "output_type": "execute_result"
    }
   ],
   "source": [
    "y_pred_train_gini = clf_gini.predict(X_train)\n",
    "\n",
    "y_pred_train_gini"
   ]
  },
  {
   "cell_type": "code",
   "execution_count": 149,
   "metadata": {},
   "outputs": [
    {
     "name": "stdout",
     "output_type": "stream",
     "text": [
      "Training-set accuracy score: 1.0000\n"
     ]
    }
   ],
   "source": [
    "print('Training-set accuracy score: {0:0.4f}'. format(accuracy_score(y_train, y_pred_train_gini)))"
   ]
  },
  {
   "cell_type": "code",
   "execution_count": 150,
   "metadata": {},
   "outputs": [
    {
     "name": "stdout",
     "output_type": "stream",
     "text": [
      "Training set score: 1.0000\n",
      "Test set score: 0.6667\n"
     ]
    }
   ],
   "source": [
    "# print the scores on training and test set\n",
    "\n",
    "print('Training set score: {:.4f}'.format(clf_gini.score(X_train, y_train)))\n",
    "\n",
    "print('Test set score: {:.4f}'.format(clf_gini.score(X_test, y_test)))"
   ]
  },
  {
   "cell_type": "code",
   "execution_count": 155,
   "metadata": {},
   "outputs": [
    {
     "data": {
      "text/plain": [
       "[Text(167.4, 203.85000000000002, 'X[0] <= 0.5\\ngini = 0.48\\nsamples = 5\\nvalue = [3, 2]'),\n",
       " Text(83.7, 67.94999999999999, 'gini = 0.0\\nsamples = 2\\nvalue = [0, 2]'),\n",
       " Text(251.10000000000002, 67.94999999999999, 'gini = 0.0\\nsamples = 3\\nvalue = [3, 0]')]"
      ]
     },
     "execution_count": 155,
     "metadata": {},
     "output_type": "execute_result"
    },
    {
     "data": {
      "image/png": "[encoded data removed]",
      "text/plain": [
       "<Figure size 432x360 with 1 Axes>"
      ]
     },
     "metadata": {
      "needs_background": "light"
     },
     "output_type": "display_data"
    }
   ],
   "source": [
    "plt.figure(figsize=(6,5))\n",
    "\n",
    "from sklearn import tree\n",
    "\n",
    "tree.plot_tree(clf_gini.fit(X_train, y_train)) "
   ]
  },
  {
   "cell_type": "code",
   "execution_count": 152,
   "metadata": {},
   "outputs": [
    {
     "name": "stdout",
     "output_type": "stream",
     "text": [
      "|--- feature_0 <= 0.50\n",
      "|   |--- class: 1\n",
      "|--- feature_0 >  0.50\n",
      "|   |--- class: 0\n",
      "\n"
     ]
    }
   ],
   "source": [
    "text_representation = tree.export_text(clf)\n",
    "print(text_representation)"
   ]
  },
  {
   "cell_type": "code",
   "execution_count": 154,
   "metadata": {},
   "outputs": [
    {
     "data": {
      "image/png": "[encoded data removed]",
      "text/plain": [
       "<Figure size 432x432 with 1 Axes>"
      ]
     },
     "metadata": {
      "needs_background": "light"
     },
     "output_type": "display_data"
    }
   ],
   "source": [
    "#'income',  'Age', \n",
    "\n",
    "fig = plt.figure(figsize=(6,6))\n",
    "_ = tree.plot_tree(clf, \n",
    "                   feature_names=df['Have_phone'],  \n",
    "                   class_names=df['But_ipad'],\n",
    "                   filled=True)"
   ]
  },
  {
   "cell_type": "code",
   "execution_count": 160,
   "metadata": {},
   "outputs": [
    {
     "data": {
      "image/png": "[encoded data removed]",
      "text/plain": [
       "<Figure size 432x288 with 1 Axes>"
      ]
     },
     "metadata": {
      "needs_background": "light"
     },
     "output_type": "display_data"
    }
   ],
   "source": [
    "from sklearn.tree import plot_tree # tree diagram\n",
    "\n",
    "\n",
    "feature_names = df.columns[:3]\n",
    "target_names = df['But_ipad'].unique().tolist()\n",
    "\n",
    "plot_tree(clf, \n",
    "          feature_names = feature_names, \n",
    "          class_names = target_names, \n",
    "          filled = True, \n",
    "          rounded = True)\n",
    "\n",
    "plt.savefig('tree_visualization.png') "
   ]
  },
  {
   "cell_type": "code",
   "execution_count": null,
   "metadata": {},
   "outputs": [],
   "source": []
  }
 ],
 "metadata": {
  "kernelspec": {
   "display_name": "Python 3",
   "language": "python",
   "name": "python3"
  },
  "language_info": {
   "codemirror_mode": {
    "name": "ipython",
    "version": 3
   },
   "file_extension": ".py",
   "mimetype": "text/x-python",
   "name": "python",
   "nbconvert_exporter": "python",
   "pygments_lexer": "ipython3",
   "version": "3.8.3"
  }
 },
 "nbformat": 4,
 "nbformat_minor": 4
}
