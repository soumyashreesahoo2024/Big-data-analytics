{
 "cells": [
  {
   "cell_type": "markdown",
   "metadata": {
    "id": "1RY_qNlxSbsT"
   },
   "source": [
    "# Extra credit: Building our own network\n",
    "In this extra credit assignment, you will try to build your own network for application. The steps are following: \n",
    "1. Loading the package and IMDB data.\n",
    "2. Build the network base on description. In this step, you need to add codes to the network building.\n",
    "3. validate your network.\n",
    "Please follow these 3 steps in order, and add codes to build the model in the corresponding place. \n"
   ]
  },
  {
   "cell_type": "code",
   "execution_count": 1,
   "metadata": {
    "colab": {
     "base_uri": "https://localhost:8080/",
     "height": 37
    },
    "id": "HiMwvtimQyhU",
    "outputId": "3ea54543-d21a-4ea0-8c66-f5d67b95da8b"
   },
   "outputs": [
    {
     "name": "stderr",
     "output_type": "stream",
     "text": [
      "Using TensorFlow backend.\n"
     ]
    },
    {
     "data": {
      "text/plain": [
       "'2.3.1'"
      ]
     },
     "execution_count": 1,
     "metadata": {},
     "output_type": "execute_result"
    }
   ],
   "source": [
    "import keras\n",
    "keras.__version__"
   ]
  },
  {
   "cell_type": "code",
   "execution_count": 2,
   "metadata": {
    "colab": {
     "base_uri": "https://localhost:8080/"
    },
    "id": "D0wKi-V4So3f",
    "outputId": "19d69b09-b8c7-447d-f1e7-bf62010893f5"
   },
   "outputs": [
    {
     "name": "stdout",
     "output_type": "stream",
     "text": [
      "Downloading data from https://s3.amazonaws.com/text-datasets/imdb.npz\n",
      "17465344/17464789 [==============================] - 4s 0us/step\n"
     ]
    },
    {
     "name": "stderr",
     "output_type": "stream",
     "text": [
      "C:\\Users\\Soumyashree Sahoo\\Anaconda3\\envs\\tensorflow\\lib\\site-packages\\keras\\datasets\\imdb.py:101: VisibleDeprecationWarning: Creating an ndarray from ragged nested sequences (which is a list-or-tuple of lists-or-tuples-or ndarrays with different lengths or shapes) is deprecated. If you meant to do this, you must specify 'dtype=object' when creating the ndarray\n",
      "  x_train, y_train = np.array(xs[:idx]), np.array(labels[:idx])\n",
      "C:\\Users\\Soumyashree Sahoo\\Anaconda3\\envs\\tensorflow\\lib\\site-packages\\keras\\datasets\\imdb.py:102: VisibleDeprecationWarning: Creating an ndarray from ragged nested sequences (which is a list-or-tuple of lists-or-tuples-or ndarrays with different lengths or shapes) is deprecated. If you meant to do this, you must specify 'dtype=object' when creating the ndarray\n",
      "  x_test, y_test = np.array(xs[idx:]), np.array(labels[idx:])\n"
     ]
    }
   ],
   "source": [
    "from keras.datasets import imdb\n",
    "\n",
    "(train_data, train_labels), (test_data, test_labels) = imdb.load_data(num_words=10000)"
   ]
  },
  {
   "cell_type": "markdown",
   "metadata": {
    "id": "ttN5a-hiTE_n"
   },
   "source": [
    "## Preparing the data\n",
    "\n",
    "\n"
   ]
  },
  {
   "cell_type": "code",
   "execution_count": 3,
   "metadata": {
    "id": "fAKHMvgvTLYo"
   },
   "outputs": [],
   "source": [
    "import numpy as np\n",
    "\n",
    "def vectorize_sequences(sequences, dimension=10000):\n",
    "    # Create an all-zero matrix of shape (len(sequences), dimension)\n",
    "    results = np.zeros((len(sequences), dimension))\n",
    "    for i, sequence in enumerate(sequences):\n",
    "        results[i, sequence] = 1.  # set specific indices of results[i] to 1s\n",
    "    return results\n",
    "\n",
    "# Our vectorized training data\n",
    "x_train = vectorize_sequences(train_data)\n",
    "# Our vectorized test data\n",
    "x_test = vectorize_sequences(test_data)"
   ]
  },
  {
   "cell_type": "code",
   "execution_count": 4,
   "metadata": {
    "colab": {
     "base_uri": "https://localhost:8080/"
    },
    "id": "SYEO_QN_URTK",
    "outputId": "e46959ed-e0fc-4391-8101-065da9c1bc88"
   },
   "outputs": [
    {
     "data": {
      "text/plain": [
       "array([0., 1., 1., ..., 0., 0., 0.])"
      ]
     },
     "execution_count": 4,
     "metadata": {},
     "output_type": "execute_result"
    }
   ],
   "source": [
    "x_train[0]"
   ]
  },
  {
   "cell_type": "code",
   "execution_count": 5,
   "metadata": {
    "id": "EHFn0awRXUTi"
   },
   "outputs": [],
   "source": [
    "# Our vectorized labels\n",
    "y_train = np.asarray(train_labels).astype('float32')\n",
    "y_test = np.asarray(test_labels).astype('float32')"
   ]
  },
  {
   "cell_type": "markdown",
   "metadata": {
    "id": "eZUi3OPSXgCo"
   },
   "source": [
    "Now our data is ready to be fed into a neural network."
   ]
  },
  {
   "cell_type": "markdown",
   "metadata": {
    "id": "np3HaGlOXjNg"
   },
   "source": [
    "## Building our network \n",
    "\n",
    "\n"
   ]
  },
  {
   "cell_type": "markdown",
   "metadata": {
    "id": "2T0FY05VXonD"
   },
   "source": [
    "Here's what our network looks like:\n",
    "\n",
    "![3-layer network](https://s3.amazonaws.com/book.keras.io/img/ch3/3_layer_network.png)"
   ]
  },
  {
   "cell_type": "markdown",
   "metadata": {
    "id": "Jo6NpfDtXrdK"
   },
   "source": [
    "And here's the Keras implementation, very similar to the MNIST example you saw previously:"
   ]
  },
  {
   "cell_type": "code",
   "execution_count": 7,
   "metadata": {
    "id": "L6LlgHBeXxxU"
   },
   "outputs": [],
   "source": [
    "from keras import models\n",
    "from keras import layers\n",
    "from keras.layers import Dense\n",
    "\n",
    "model = models.Sequential()\n",
    "model.add(Dense(16, input_dim=10000, activation= 'relu'))#Add code here. This is the first layer with 16 nodes and relu activation function, input shape is (10000,0).\n",
    "model.add(Dense(16, activation= 'relu'))#Add code here. This is the second layer with 16 nodes and  activation function relu.\n",
    "model.add(Dense(1, input_dim=10000, activation= 'sigmoid'))#Add code here. This is the Third layer with 1 nodes and  activation function sigmoid."
   ]
  },
  {
   "cell_type": "code",
   "execution_count": 8,
   "metadata": {
    "id": "KeNen50PX55T"
   },
   "outputs": [],
   "source": [
    "model.compile(optimizer='rmsprop',\n",
    "              loss='binary_crossentropy',\n",
    "              metrics=['accuracy'])"
   ]
  },
  {
   "cell_type": "code",
   "execution_count": 9,
   "metadata": {
    "id": "H1R3pCu7X_uA"
   },
   "outputs": [],
   "source": [
    "from keras import optimizers\n",
    "\n",
    "model.compile(optimizer=optimizers.RMSprop(lr=0.001),\n",
    "              loss='binary_crossentropy',\n",
    "              metrics=['accuracy'])"
   ]
  },
  {
   "cell_type": "code",
   "execution_count": 10,
   "metadata": {
    "id": "Z7ugupyZYFn3"
   },
   "outputs": [],
   "source": [
    "from keras import losses\n",
    "from keras import metrics\n",
    "\n",
    "model.compile(optimizer=optimizers.RMSprop(lr=0.001),\n",
    "              loss=losses.binary_crossentropy,\n",
    "              metrics=[metrics.binary_accuracy])"
   ]
  },
  {
   "cell_type": "markdown",
   "metadata": {
    "id": "AowrZkByYIPa"
   },
   "source": [
    "## Validating our approach\n",
    "\n"
   ]
  },
  {
   "cell_type": "code",
   "execution_count": 11,
   "metadata": {
    "id": "GE226W8uYJYL"
   },
   "outputs": [],
   "source": [
    "x_val = x_train[:10000]\n",
    "partial_x_train = x_train[10000:]\n",
    "\n",
    "y_val = y_train[:10000]\n",
    "partial_y_train = y_train[10000:]"
   ]
  },
  {
   "cell_type": "code",
   "execution_count": 12,
   "metadata": {
    "id": "XO8ty9UIYOPt"
   },
   "outputs": [
    {
     "name": "stdout",
     "output_type": "stream",
     "text": [
      "Train on 15000 samples, validate on 10000 samples\n",
      "Epoch 1/20\n",
      "15000/15000 [==============================] - 2s 135us/step - loss: 0.5444 - binary_accuracy: 0.7711 - val_loss: 0.4366 - val_binary_accuracy: 0.8498\n",
      "Epoch 2/20\n",
      "15000/15000 [==============================] - 1s 98us/step - loss: 0.3465 - binary_accuracy: 0.9021 - val_loss: 0.3325 - val_binary_accuracy: 0.8872\n",
      "Epoch 3/20\n",
      "15000/15000 [==============================] - 1s 100us/step - loss: 0.2502 - binary_accuracy: 0.9269 - val_loss: 0.2852 - val_binary_accuracy: 0.8921\n",
      "Epoch 4/20\n",
      "15000/15000 [==============================] - 1s 98us/step - loss: 0.1862 - binary_accuracy: 0.9414 - val_loss: 0.2832 - val_binary_accuracy: 0.8872\n",
      "Epoch 5/20\n",
      "15000/15000 [==============================] - 1s 94us/step - loss: 0.1528 - binary_accuracy: 0.9521 - val_loss: 0.2787 - val_binary_accuracy: 0.8883\n",
      "Epoch 6/20\n",
      "15000/15000 [==============================] - 1s 93us/step - loss: 0.1248 - binary_accuracy: 0.9619 - val_loss: 0.2982 - val_binary_accuracy: 0.8834\n",
      "Epoch 7/20\n",
      "15000/15000 [==============================] - 1s 91us/step - loss: 0.1032 - binary_accuracy: 0.9699 - val_loss: 0.3127 - val_binary_accuracy: 0.8803\n",
      "Epoch 8/20\n",
      "15000/15000 [==============================] - 1s 90us/step - loss: 0.0860 - binary_accuracy: 0.9754 - val_loss: 0.3223 - val_binary_accuracy: 0.8801\n",
      "Epoch 9/20\n",
      "15000/15000 [==============================] - 1s 89us/step - loss: 0.0706 - binary_accuracy: 0.9817 - val_loss: 0.3657 - val_binary_accuracy: 0.8744\n",
      "Epoch 10/20\n",
      "15000/15000 [==============================] - 1s 91us/step - loss: 0.0592 - binary_accuracy: 0.9849 - val_loss: 0.3627 - val_binary_accuracy: 0.8795\n",
      "Epoch 11/20\n",
      "15000/15000 [==============================] - 1s 92us/step - loss: 0.0454 - binary_accuracy: 0.9909 - val_loss: 0.4116 - val_binary_accuracy: 0.8714\n",
      "Epoch 12/20\n",
      "15000/15000 [==============================] - 1s 99us/step - loss: 0.0381 - binary_accuracy: 0.9921 - val_loss: 0.4179 - val_binary_accuracy: 0.8751\n",
      "Epoch 13/20\n",
      "15000/15000 [==============================] - 1s 96us/step - loss: 0.0298 - binary_accuracy: 0.9937 - val_loss: 0.4487 - val_binary_accuracy: 0.8730\n",
      "Epoch 14/20\n",
      "15000/15000 [==============================] - 2s 102us/step - loss: 0.0235 - binary_accuracy: 0.9961 - val_loss: 0.4791 - val_binary_accuracy: 0.8715\n",
      "Epoch 15/20\n",
      "15000/15000 [==============================] - 1s 92us/step - loss: 0.0176 - binary_accuracy: 0.9977 - val_loss: 0.5151 - val_binary_accuracy: 0.8685\n",
      "Epoch 16/20\n",
      "15000/15000 [==============================] - 1s 92us/step - loss: 0.0137 - binary_accuracy: 0.9984 - val_loss: 0.5534 - val_binary_accuracy: 0.8688\n",
      "Epoch 17/20\n",
      "15000/15000 [==============================] - 1s 90us/step - loss: 0.0109 - binary_accuracy: 0.9990 - val_loss: 0.5826 - val_binary_accuracy: 0.8686\n",
      "Epoch 18/20\n",
      "15000/15000 [==============================] - 1s 94us/step - loss: 0.0086 - binary_accuracy: 0.9988 - val_loss: 0.6150 - val_binary_accuracy: 0.8690\n",
      "Epoch 19/20\n",
      "15000/15000 [==============================] - 1s 98us/step - loss: 0.0078 - binary_accuracy: 0.9990 - val_loss: 0.6501 - val_binary_accuracy: 0.8659\n",
      "Epoch 20/20\n",
      "15000/15000 [==============================] - 1s 98us/step - loss: 0.0037 - binary_accuracy: 0.9999 - val_loss: 0.6837 - val_binary_accuracy: 0.8666\n"
     ]
    }
   ],
   "source": [
    "history = model.fit(partial_x_train,\n",
    "                    partial_y_train,\n",
    "                    epochs=20,\n",
    "                    batch_size=512,\n",
    "                    validation_data=(x_val, y_val))"
   ]
  },
  {
   "cell_type": "code",
   "execution_count": 13,
   "metadata": {
    "id": "5zcoAZMEYVgi"
   },
   "outputs": [
    {
     "data": {
      "text/plain": [
       "dict_keys(['val_loss', 'val_binary_accuracy', 'loss', 'binary_accuracy'])"
      ]
     },
     "execution_count": 13,
     "metadata": {},
     "output_type": "execute_result"
    }
   ],
   "source": [
    "history_dict = history.history\n",
    "history_dict.keys()"
   ]
  },
  {
   "cell_type": "code",
   "execution_count": 14,
   "metadata": {
    "id": "Bhg-WYlCZA5V"
   },
   "outputs": [
    {
     "data": {
      "image/png": "[encoded data removed]",
      "text/plain": [
       "<Figure size 432x288 with 1 Axes>"
      ]
     },
     "metadata": {
      "needs_background": "light"
     },
     "output_type": "display_data"
    }
   ],
   "source": [
    "import matplotlib.pyplot as plt\n",
    "\n",
    "acc = history.history['binary_accuracy']\n",
    "val_acc = history.history['val_binary_accuracy']\n",
    "loss = history.history['loss']\n",
    "val_loss = history.history['val_loss']\n",
    "\n",
    "epochs = range(1, len(acc) + 1)\n",
    "\n",
    "# \"bo\" is for \"blue dot\"\n",
    "plt.plot(epochs, loss, 'bo', label='Training loss')\n",
    "# b is for \"solid blue line\"\n",
    "plt.plot(epochs, val_loss, 'b', label='Validation loss')\n",
    "plt.title('Training and validation loss')\n",
    "plt.xlabel('Epochs')\n",
    "plt.ylabel('Loss')\n",
    "plt.legend()\n",
    "\n",
    "plt.show()"
   ]
  },
  {
   "cell_type": "code",
   "execution_count": 15,
   "metadata": {
    "id": "AiNrmE9PZC8N"
   },
   "outputs": [
    {
     "data": {
      "image/png": "[encoded data removed]",
      "text/plain": [
       "<Figure size 432x288 with 1 Axes>"
      ]
     },
     "metadata": {
      "needs_background": "light"
     },
     "output_type": "display_data"
    }
   ],
   "source": [
    "plt.clf()   # clear figure\n",
    "acc_values = history_dict['binary_accuracy']\n",
    "val_acc_values = history_dict['val_binary_accuracy']\n",
    "\n",
    "plt.plot(epochs, acc, 'bo', label='Training acc')\n",
    "plt.plot(epochs, val_acc, 'b', label='Validation acc')\n",
    "plt.title('Training and validation accuracy')\n",
    "plt.xlabel('Epochs')\n",
    "plt.ylabel('Loss')\n",
    "plt.legend()\n",
    "\n",
    "plt.show()"
   ]
  },
  {
   "cell_type": "code",
   "execution_count": 16,
   "metadata": {
    "id": "FUXPLV_NZHJd"
   },
   "outputs": [
    {
     "name": "stdout",
     "output_type": "stream",
     "text": [
      "Epoch 1/4\n",
      "25000/25000 [==============================] - 2s 62us/step - loss: 0.4572 - accuracy: 0.8225\n",
      "Epoch 2/4\n",
      "25000/25000 [==============================] - 1s 58us/step - loss: 0.2571 - accuracy: 0.9112\n",
      "Epoch 3/4\n",
      "25000/25000 [==============================] - 1s 59us/step - loss: 0.1998 - accuracy: 0.9285\n",
      "Epoch 4/4\n",
      "25000/25000 [==============================] - 1s 58us/step - loss: 0.1666 - accuracy: 0.9423\n",
      "25000/25000 [==============================] - 5s 211us/step\n"
     ]
    }
   ],
   "source": [
    "model = models.Sequential()\n",
    "model.add(layers.Dense(16, activation='relu', input_shape=(10000,)))\n",
    "model.add(layers.Dense(16, activation='relu'))\n",
    "model.add(layers.Dense(1, activation='sigmoid'))\n",
    "\n",
    "model.compile(optimizer='rmsprop',\n",
    "              loss='binary_crossentropy',\n",
    "              metrics=['accuracy'])\n",
    "\n",
    "model.fit(x_train, y_train, epochs=4, batch_size=512)\n",
    "results = model.evaluate(x_test, y_test)"
   ]
  },
  {
   "cell_type": "code",
   "execution_count": 17,
   "metadata": {
    "id": "biOftRorZI7r"
   },
   "outputs": [
    {
     "data": {
      "text/plain": [
       "[0.3042991485881805, 0.880840003490448]"
      ]
     },
     "execution_count": 17,
     "metadata": {},
     "output_type": "execute_result"
    }
   ],
   "source": [
    "results"
   ]
  }
 ],
 "metadata": {
  "colab": {
   "name": "tutorial1d_[yiw11111].ipynb",
   "provenance": []
  },
  "kernelspec": {
   "display_name": "Python 3",
   "language": "python",
   "name": "python3"
  },
  "language_info": {
   "codemirror_mode": {
    "name": "ipython",
    "version": 3
   },
   "file_extension": ".py",
   "mimetype": "text/x-python",
   "name": "python",
   "nbconvert_exporter": "python",
   "pygments_lexer": "ipython3",
   "version": "3.6.12"
  }
 },
 "nbformat": 4,
 "nbformat_minor": 1
}
