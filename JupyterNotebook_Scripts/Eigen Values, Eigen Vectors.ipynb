{
 "cells": [
  {
   "cell_type": "markdown",
   "metadata": {},
   "source": [
    "# Finding out eigen values and eigen vectors of a given matrix"
   ]
  },
  {
   "cell_type": "code",
   "execution_count": null,
   "metadata": {},
   "outputs": [],
   "source": [
    "import numpy as np\n",
    "import matplotlib.pyplot as plt\n",
    "import scipy.linalg as la\n"
   ]
  },
  {
   "cell_type": "markdown",
   "metadata": {},
   "source": [
    "consider a matrix"
   ]
  },
  {
   "cell_type": "code",
   "execution_count": null,
   "metadata": {},
   "outputs": [],
   "source": [
    "# #x = np.array([[2],\n",
    "#               [1]])\n",
    "\n",
    "# A = np.array([[2, 1,0],\n",
    "#               [0,2,0],\n",
    "#              [0,0,2]])\n",
    "\n",
    "A = np.array([[2, -12],\n",
    "              [1, -5]])\n",
    "\n",
    "\n",
    "A"
   ]
  },
  {
   "cell_type": "markdown",
   "metadata": {},
   "source": [
    "function la.eig returns  a tuple ( eigenvals,eigenvecs) where eigvals is a 1D numpy array of giving eigenvalues of A, and eigvecs is a 2D Numpy array with corresponding eigenvectors in the columns."
   ]
  },
  {
   "cell_type": "code",
   "execution_count": null,
   "metadata": {},
   "outputs": [],
   "source": [
    "results = la.eig(A)\n",
    "results"
   ]
  },
  {
   "cell_type": "markdown",
   "metadata": {},
   "source": [
    "The eigenvalues of A are:"
   ]
  },
  {
   "cell_type": "code",
   "execution_count": null,
   "metadata": {},
   "outputs": [],
   "source": [
    "print(results[0])"
   ]
  },
  {
   "cell_type": "markdown",
   "metadata": {},
   "source": [
    "So the eigen values are : 2 , 2, 2"
   ]
  },
  {
   "cell_type": "markdown",
   "metadata": {},
   "source": [
    "The corresponding eigen vectors are:"
   ]
  },
  {
   "cell_type": "code",
   "execution_count": null,
   "metadata": {},
   "outputs": [],
   "source": [
    "print(results[1])"
   ]
  },
  {
   "cell_type": "markdown",
   "metadata": {},
   "source": [
    "Unpacking the tuple:"
   ]
  },
  {
   "cell_type": "code",
   "execution_count": null,
   "metadata": {},
   "outputs": [],
   "source": [
    "eigvals, eigvecs = la.eig(A)\n",
    "print(eigvals)"
   ]
  },
  {
   "cell_type": "code",
   "execution_count": null,
   "metadata": {},
   "outputs": [],
   "source": [
    "print(eigvecs)"
   ]
  },
  {
   "cell_type": "code",
   "execution_count": null,
   "metadata": {},
   "outputs": [],
   "source": [
    "# converting array of eigen values to real numbers\n",
    "\n",
    "eigvals = eigvals.real\n",
    "print(eigvals)"
   ]
  },
  {
   "cell_type": "code",
   "execution_count": null,
   "metadata": {},
   "outputs": [],
   "source": [
    "# position of an eigen value in the array eigvals correspond to the column in eigvecs with its eigenvectors\n",
    "\n",
    "lambda1 = eigvals[1]\n",
    "print(lambda1)"
   ]
  },
  {
   "cell_type": "markdown",
   "metadata": {},
   "source": [
    "# To check if a vector is eigen vector of a corresponding another vector"
   ]
  },
  {
   "cell_type": "code",
   "execution_count": null,
   "metadata": {},
   "outputs": [],
   "source": [
    "import numpy as np\n",
    "\n",
    "a = np.array([[2,-4], [3,-6]])\n",
    "w, v = np.linalg.eig(a)\n",
    "\n",
    "print('eigen values: ' ,w,'\\n')     \n",
    "print('eigen vectors: \\n\\n' ,v)"
   ]
  },
  {
   "cell_type": "markdown",
   "metadata": {},
   "source": [
    "\n",
    "\n",
    "------------------------------------------------------------------------------------------------------\n",
    "So, the eigenvalue\n",
    "\n",
    "w[0] goes with v[:,0]\n",
    "w[1] goes with v[:,1]\n",
    "We will now check if the condition\n",
    "\n",
    "A\n",
    "v\n",
    "=\n",
    "λ\n",
    "v\n",
    "\n",
    "\n",
    "holds here.\n",
    "\n",
    "The LHS of the above equation \n",
    "A\n",
    "v\n",
    " here is"
   ]
  },
  {
   "cell_type": "code",
   "execution_count": null,
   "metadata": {},
   "outputs": [],
   "source": [
    "np.dot(a,v[:,0])"
   ]
  },
  {
   "cell_type": "markdown",
   "metadata": {},
   "source": [
    "and the RHS part \n",
    "λ\n",
    "v\n",
    " is"
   ]
  },
  {
   "cell_type": "code",
   "execution_count": null,
   "metadata": {},
   "outputs": [],
   "source": [
    "np.dot(w[0],v[:,0])"
   ]
  },
  {
   "cell_type": "code",
   "execution_count": null,
   "metadata": {},
   "outputs": [],
   "source": [
    "# So if the returned eigenvalues and eigenvectors are correct, the following line of script should return True\n",
    "\n",
    "print(np.allclose(np.dot(a,v[:,0]),np.dot(w[0],v[:,0])))"
   ]
  },
  {
   "cell_type": "code",
   "execution_count": null,
   "metadata": {},
   "outputs": [],
   "source": [
    "# Also, just to see if the returned eigenvectors are normalized, use the numpy.linalg.norm() \n",
    "# function to cross-check them. The below script should return 1.0 in both the print() statements.\n",
    "\n",
    "print(np.linalg.norm(v[:,0]))\n",
    "print(np.linalg.norm(v[:,1]))"
   ]
  },
  {
   "cell_type": "markdown",
   "metadata": {},
   "source": [
    "# PCA Algorithm"
   ]
  },
  {
   "cell_type": "code",
   "execution_count": null,
   "metadata": {},
   "outputs": [],
   "source": []
  },
  {
   "cell_type": "code",
   "execution_count": 20,
   "metadata": {},
   "outputs": [
    {
     "name": "stdout",
     "output_type": "stream",
     "text": [
      "[[ 1  1  9]\n",
      " [ 2  4  6]\n",
      " [ 3  7  4]\n",
      " [ 4 11  4]\n",
      " [ 5  9  2]]\n"
     ]
    }
   ],
   "source": [
    "from numpy import array\n",
    "from numpy import mean\n",
    "from numpy import cov\n",
    "from numpy.linalg import eig\n",
    "\n",
    "\n",
    "# define a matrix\n",
    "A = array([[1,1,9], [2, 4,6], [3,7,4], [4,11,4],[5,9,2]])\n",
    "print(A)\n"
   ]
  },
  {
   "cell_type": "code",
   "execution_count": 1,
   "metadata": {},
   "outputs": [
    {
     "name": "stdout",
     "output_type": "stream",
     "text": [
      "[[4 1]\n",
      " [2 3]\n",
      " [5 4]\n",
      " [1 0]]\n"
     ]
    }
   ],
   "source": [
    "from numpy import array\n",
    "from numpy import mean\n",
    "from numpy import cov\n",
    "from numpy.linalg import eig\n",
    "\n",
    "\n",
    "# define a matrix\n",
    "A = array([[4,1], [2,3], [5,4], [1,0]])\n",
    "print(A)"
   ]
  },
  {
   "cell_type": "code",
   "execution_count": 16,
   "metadata": {},
   "outputs": [
    {
     "name": "stdout",
     "output_type": "stream",
     "text": [
      "[3.  6.4 5. ]\n"
     ]
    }
   ],
   "source": [
    "# calculate the mean of each column\n",
    "M = mean(A.T, axis=1)\n",
    "print(M)"
   ]
  },
  {
   "cell_type": "code",
   "execution_count": 21,
   "metadata": {},
   "outputs": [
    {
     "name": "stdout",
     "output_type": "stream",
     "text": [
      "[[-2.  -5.4  4. ]\n",
      " [-1.  -2.4  1. ]\n",
      " [ 0.   0.6 -1. ]\n",
      " [ 1.   4.6 -1. ]\n",
      " [ 2.   2.6 -3. ]]\n"
     ]
    }
   ],
   "source": [
    "# center columns by subtracting column means\n",
    "C = A - M\n",
    "print(C)"
   ]
  },
  {
   "cell_type": "code",
   "execution_count": 22,
   "metadata": {},
   "outputs": [
    {
     "name": "stdout",
     "output_type": "stream",
     "text": [
      "[[ 2.5   5.75 -4.  ]\n",
      " [ 5.75 15.8  -9.25]\n",
      " [-4.   -9.25  7.  ]]\n"
     ]
    }
   ],
   "source": [
    "# calculate covariance matrix of centered matrix\n",
    "V = cov(C.T)\n",
    "print(V)\n"
   ]
  },
  {
   "cell_type": "code",
   "execution_count": 23,
   "metadata": {},
   "outputs": [
    {
     "name": "stdout",
     "output_type": "stream",
     "text": [
      "eigen vectors =  [[ 0.31047214  0.91384283 -0.26172187]\n",
      " [ 0.80139329 -0.10354986  0.58910629]\n",
      " [-0.5112493   0.39264324  0.76449686]] \n",
      "\n",
      "eigen values =  [23.92868148  0.12980618  1.24151234]\n"
     ]
    }
   ],
   "source": [
    "# eigendecomposition of covariance matrix\n",
    "values, vectors = eig(V)\n",
    "print('eigen vectors = ' , vectors, '\\n')\n",
    "print('eigen values = ' , values)"
   ]
  },
  {
   "cell_type": "code",
   "execution_count": 24,
   "metadata": {},
   "outputs": [
    {
     "name": "stdout",
     "output_type": "stream",
     "text": [
      "[[-6.99346524  0.30205652  0.40025719]\n",
      " [-2.74506534 -0.27267994 -0.38763637]\n",
      " [ 0.99208527 -0.45477315 -0.41103308]\n",
      " [ 4.50813057  0.04487025  1.68367021]\n",
      " [ 4.23831473  0.38052632 -1.28525795]]\n"
     ]
    }
   ],
   "source": [
    "# project data\n",
    "P = vectors.T.dot(C.T)\n",
    "print(P.T)"
   ]
  },
  {
   "cell_type": "markdown",
   "metadata": {},
   "source": [
    "# To find projected matrix"
   ]
  },
  {
   "cell_type": "markdown",
   "metadata": {},
   "source": [
    "We can calculate a Principal Component Analysis on a dataset using the PCA() class in the scikit-learn library. The benefit of this approach is that once the projection is calculated, it can be applied to new data again and again quite easily.\n",
    "\n",
    "When creating the class, the number of components can be specified as a parameter.\n",
    "\n",
    "The class is first fit on a dataset by calling the fit() function, and then the original dataset or other data can be projected into a subspace with the chosen number of dimensions by calling the transform() function.\n",
    "\n",
    "Once fit, the eigenvalues and principal components can be accessed on the PCA class via the explained_variance_ and components_ attributes.\n",
    "\n",
    "The example below demonstrates using this class by first creating an instance, fitting it on a 3×2 matrix, accessing the values and vectors of the projection, and transforming the original data.\n",
    "\n"
   ]
  },
  {
   "cell_type": "code",
   "execution_count": 13,
   "metadata": {},
   "outputs": [
    {
     "name": "stdout",
     "output_type": "stream",
     "text": [
      "[[4 1]\n",
      " [2 3]\n",
      " [5 4]\n",
      " [1 0]]\n",
      "\n",
      "\n",
      "\n",
      "Principal components:\n",
      "[[ 0.70710678  0.70710678]\n",
      " [ 0.70710678 -0.70710678]]\n",
      "\n",
      "values:\n",
      "[5.33333333 1.33333333]\n",
      "\n",
      "transformed data:\n",
      "[[ 1.11022302e-16  1.41421356e+00]\n",
      " [-1.11022302e-16 -1.41421356e+00]\n",
      " [ 2.82842712e+00 -2.22044605e-16]\n",
      " [-2.82842712e+00  2.22044605e-16]]\n"
     ]
    }
   ],
   "source": [
    "# Principal Component Analysis\n",
    "from numpy import array\n",
    "from sklearn.decomposition import PCA\n",
    "# define a matrix\n",
    "A = array([[4, 1], [2, 3], [5, 4], [1, 0]])\n",
    "print(A)\n",
    "print()\n",
    "\n",
    "# create the PCA instance\n",
    "pca = PCA()\n",
    "print()\n",
    "\n",
    "# fit on data\n",
    "pca.fit(A)\n",
    "print()\n",
    "\n",
    "# access values and vectors\n",
    "print('Principal components:')\n",
    "print(pca.components_)\n",
    "print()\n",
    "print('values:')\n",
    "print(pca.explained_variance_)\n",
    "print()\n",
    "\n",
    "# transform data\n",
    "print('transformed data:')\n",
    "B = pca.transform(A)\n",
    "print(B)"
   ]
  },
  {
   "cell_type": "markdown",
   "metadata": {},
   "source": [
    "Running the example first prints the 3×2 data matrix, then the principal components and values, followed by the projection of the original matrix.\n",
    "\n",
    "We can see, that with some very minor floating point rounding that we achieve the same principal components, singular values, and projection as in the previous example."
   ]
  },
  {
   "cell_type": "code",
   "execution_count": null,
   "metadata": {},
   "outputs": [],
   "source": []
  },
  {
   "cell_type": "code",
   "execution_count": null,
   "metadata": {},
   "outputs": [],
   "source": []
  }
 ],
 "metadata": {
  "kernelspec": {
   "display_name": "Python 3",
   "language": "python",
   "name": "python3"
  },
  "language_info": {
   "codemirror_mode": {
    "name": "ipython",
    "version": 3
   },
   "file_extension": ".py",
   "mimetype": "text/x-python",
   "name": "python",
   "nbconvert_exporter": "python",
   "pygments_lexer": "ipython3",
   "version": "3.8.3"
  }
 },
 "nbformat": 4,
 "nbformat_minor": 4
}
