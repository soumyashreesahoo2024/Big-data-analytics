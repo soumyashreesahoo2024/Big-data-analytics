{
 "cells": [
  {
   "cell_type": "code",
   "execution_count": 38,
   "metadata": {},
   "outputs": [],
   "source": [
    "import sys, json, numpy as np"
   ]
  },
  {
   "cell_type": "markdown",
   "metadata": {},
   "source": [
    "What is a stochastic matrix? It is a matrix in which either all the entries of each row or column add up to 1. In this case, the entries of each column add up to 1, so this matrix is column-stochastic. This type of matrix represents a probability distribution, in which each matrix[i][j] represents the probability that a web surfer who is currently on page j will visit page i."
   ]
  },
  {
   "cell_type": "code",
   "execution_count": 39,
   "metadata": {},
   "outputs": [],
   "source": [
    "def create_stochastic(adj_list):\n",
    "  n = len(adj_list)\n",
    "  matrix = np.zeros((n, n))\n",
    "  for col, line in enumerate(adj_list):\n",
    "    if len(line) > 0:\n",
    "      for index in line:\n",
    "        matrix[index][col] = 1/(len(line))\n",
    "    else:\n",
    "      for index in range(n):\n",
    "        matrix[index][col] = 1/n\n",
    "  return matrix"
   ]
  },
  {
   "cell_type": "code",
   "execution_count": 40,
   "metadata": {},
   "outputs": [],
   "source": [
    "adj_list = [[2,1],[2],[0],[]]\n",
    "stoch_matrix = create_stochastic(adj_list)\n"
   ]
  },
  {
   "cell_type": "code",
   "execution_count": 41,
   "metadata": {},
   "outputs": [
    {
     "data": {
      "text/plain": [
       "array([[0.  , 0.  , 1.  , 0.25],\n",
       "       [0.5 , 0.  , 0.  , 0.25],\n",
       "       [0.5 , 1.  , 0.  , 0.25],\n",
       "       [0.  , 0.  , 0.  , 0.25]])"
      ]
     },
     "execution_count": 41,
     "metadata": {},
     "output_type": "execute_result"
    }
   ],
   "source": [
    "stoch_matrix"
   ]
  },
  {
   "cell_type": "code",
   "execution_count": 30,
   "metadata": {},
   "outputs": [],
   "source": [
    "def create_transitional(stoch_matrix):\n",
    "  n = len(stoch_matrix)\n",
    "  d = 0.85 #damping factor\n",
    "  E = np.ones((n, n)) #create matrix of 1's\n",
    "  part1 = np.multiply(((1-d)/n), E)\n",
    "  part2 = np.multiply(d, stoch_matrix)\n",
    "  transition_matrix = np.add(part1, part2)\n",
    "  print(transition_matrix)\n",
    "  print('\\n')\n",
    "  return transition_matrix"
   ]
  },
  {
   "cell_type": "code",
   "execution_count": 31,
   "metadata": {},
   "outputs": [
    {
     "name": "stdout",
     "output_type": "stream",
     "text": [
      "[[0.0375 0.0375 0.8875 0.25  ]\n",
      " [0.4625 0.0375 0.0375 0.25  ]\n",
      " [0.4625 0.8875 0.0375 0.25  ]\n",
      " [0.0375 0.0375 0.0375 0.25  ]]\n",
      "\n",
      "\n"
     ]
    }
   ],
   "source": [
    "transition_matrix = create_transitional(stoch_matrix)"
   ]
  },
  {
   "cell_type": "code",
   "execution_count": 35,
   "metadata": {},
   "outputs": [],
   "source": [
    "#----------------------------------------------------------------------------\n",
    "  "
   ]
  },
  {
   "cell_type": "code",
   "execution_count": 44,
   "metadata": {},
   "outputs": [],
   "source": [
    "#For r = 0.8Mr + c\n",
    "\n",
    "import numpy\n",
    "\n",
    "def create_transitional(stoch_matrix):\n",
    "  n = len(stoch_matrix)\n",
    "  d = 0.8 #damping factor\n",
    "  matrix = [(0.2),(0.2),(0.2),(0.2)]\n",
    "  E = numpy.transpose(matrix)\n",
    "  part1 = np.multiply(((1-d)/n), E)\n",
    "  part2 = np.multiply(d, stoch_matrix)\n",
    "  transition_matrix = np.add(part1, part2)\n",
    "  print(transition_matrix)\n",
    "  print('\\n')\n",
    "  return transition_matrix"
   ]
  },
  {
   "cell_type": "code",
   "execution_count": 45,
   "metadata": {},
   "outputs": [
    {
     "name": "stdout",
     "output_type": "stream",
     "text": [
      "[[0.01 0.01 0.81 0.21]\n",
      " [0.41 0.01 0.01 0.21]\n",
      " [0.41 0.81 0.01 0.21]\n",
      " [0.01 0.01 0.01 0.21]]\n",
      "\n",
      "\n"
     ]
    }
   ],
   "source": [
    "transition_matrix = create_transitional(stoch_matrix)"
   ]
  },
  {
   "cell_type": "code",
   "execution_count": null,
   "metadata": {},
   "outputs": [],
   "source": [
    "#------------------------------------------------------------------------"
   ]
  },
  {
   "cell_type": "code",
   "execution_count": 46,
   "metadata": {},
   "outputs": [],
   "source": [
    "def within_err_bound(v1, v2, err_bound):\n",
    "  diff_vector = np.subtract(v2, v1)\n",
    "  for diff in diff_vector:\n",
    "    if abs(diff) > err_bound:\n",
    "      return False\n",
    "  return True"
   ]
  },
  {
   "cell_type": "code",
   "execution_count": 47,
   "metadata": {},
   "outputs": [],
   "source": [
    "def calculate_pagerank(transition_matrix):\n",
    "  n = len(transition_matrix)\n",
    "  err_bound = 0.005\n",
    "  v1 = np.full((n, 1), 1/n)\n",
    "  v2 = np.matmul(transition_matrix, v1)\n",
    "  count = 1\n",
    "  print(v2)\n",
    "  print('\\n')\n",
    "  while not within_err_bound(v1, v2, err_bound): \n",
    "    #keep iterating multiplication until difference between v1 and v2 for all entries is under err bound\n",
    "    v1 = v2\n",
    "    v2 = np.matmul(transition_matrix, v1)\n",
    "    count += 1\n",
    "    print(v2)\n",
    "    print('\\n')\n",
    "  print('iteration:', count)  \n",
    "  return {'vector': v2.tolist(), 'iterations': count}"
   ]
  },
  {
   "cell_type": "code",
   "execution_count": 48,
   "metadata": {},
   "outputs": [
    {
     "name": "stdout",
     "output_type": "stream",
     "text": [
      "[[0.26]\n",
      " [0.16]\n",
      " [0.36]\n",
      " [0.06]]\n",
      "\n",
      "\n",
      "[[0.3084]\n",
      " [0.1244]\n",
      " [0.2524]\n",
      " [0.0204]]\n",
      "\n",
      "\n",
      "[[0.213056]\n",
      " [0.134496]\n",
      " [0.234016]\n",
      " [0.011136]]\n",
      "\n",
      "\n",
      "[[0.19536704]\n",
      " [0.09337664]\n",
      " [0.20097344]\n",
      " [0.00815424]]\n",
      "\n",
      "\n",
      "[[0.16738831]\n",
      " [0.08475638]\n",
      " [0.15945769]\n",
      " [0.00660956]]\n",
      "\n",
      "\n",
      "[[0.13307018]\n",
      " [0.07245936]\n",
      " [0.14026446]\n",
      " [0.00550403]]\n",
      "\n",
      "\n",
      "[[0.11682535]\n",
      " [0.05784186]\n",
      " [0.11580935]\n",
      " [0.00461379]]\n",
      "\n",
      "\n",
      "[[0.09652114]\n",
      " [0.0506038 ]\n",
      " [0.09687729]\n",
      " [0.00387366]]\n",
      "\n",
      "\n",
      "[[0.08075532]\n",
      " [0.04186195]\n",
      " [0.08234499]\n",
      " [0.00325349]]\n",
      "\n",
      "\n",
      "[[0.06860885]\n",
      " [0.03503499]\n",
      " [0.06852454]\n",
      " [0.00273286]]\n",
      "\n",
      "\n",
      "[[0.05711522]\n",
      " [0.02973912]\n",
      " [0.05776711]\n",
      " [0.00229558]]\n",
      "\n",
      "\n",
      "[[0.04814197]\n",
      " [0.02477437]\n",
      " [0.04856567]\n",
      " [0.00192829]]\n",
      "\n",
      "\n",
      "[[0.0404723 ]\n",
      " [0.02087655]\n",
      " [0.04069605]\n",
      " [0.00161976]]\n",
      "\n",
      "\n",
      "[[0.03391744]\n",
      " [0.01754952]\n",
      " [0.03425076]\n",
      " [0.0013606 ]]\n",
      "\n",
      "\n",
      "[[0.02854351]\n",
      " [0.01470988]\n",
      " [0.02874949]\n",
      " [0.0011429 ]]\n",
      "\n",
      "\n",
      "[[0.02395963]\n",
      " [0.01237744]\n",
      " [0.02414534]\n",
      " [0.00096004]]\n",
      "\n",
      "\n",
      "iteration: 16\n"
     ]
    }
   ],
   "source": [
    "result = calculate_pagerank(transition_matrix)"
   ]
  },
  {
   "cell_type": "markdown",
   "metadata": {},
   "source": [
    "  You can see the part of the console output for this example here. Even in the first few iterations, you can see the values changing by a smaller amount each time. This particular example takes 8 iterations until the differences fall below the error bound. The last vector output in this iterative process is the final pagerank. \n",
    "  \n",
    "  \n",
    "  \n",
    "  Given this vector, we can see that Page C has the highest rank. This is expected because Page C has the most inbound links of any page. But notice that Page A has a very high rank, too, despite having only one inbound link! This is because this single inbound link comes from Page C, which happens to be the most important page. "
   ]
  },
  {
   "cell_type": "code",
   "execution_count": null,
   "metadata": {},
   "outputs": [],
   "source": []
  },
  {
   "cell_type": "code",
   "execution_count": null,
   "metadata": {},
   "outputs": [],
   "source": []
  },
  {
   "cell_type": "code",
   "execution_count": null,
   "metadata": {},
   "outputs": [],
   "source": []
  }
 ],
 "metadata": {
  "kernelspec": {
   "display_name": "Python 3",
   "language": "python",
   "name": "python3"
  },
  "language_info": {
   "codemirror_mode": {
    "name": "ipython",
    "version": 3
   },
   "file_extension": ".py",
   "mimetype": "text/x-python",
   "name": "python",
   "nbconvert_exporter": "python",
   "pygments_lexer": "ipython3",
   "version": "3.8.3"
  }
 },
 "nbformat": 4,
 "nbformat_minor": 4
}
